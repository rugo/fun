{
 "metadata": {
  "name": ""
 },
 "nbformat": 3,
 "nbformat_minor": 0,
 "worksheets": [
  {
   "cells": [
    {
     "cell_type": "code",
     "collapsed": false,
     "input": [
      "from tempfile import NamedTemporaryFile\n",
      "f_temp = NamedTemporaryFile()\n",
      "print f_temp, f_temp.name \n",
      "f_temp.write('Nopeee!\\n')\n",
      "f_temp.flush()  # on disk\n",
      "f_temp.close()  # file deleted :D"
     ],
     "language": "python",
     "metadata": {},
     "outputs": []
    }
   ],
   "metadata": {}
  }
 ]
}