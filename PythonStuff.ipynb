{
 "metadata": {
  "name": ""
 },
 "nbformat": 3,
 "nbformat_minor": 0,
 "worksheets": [
  {
   "cells": [
    {
     "cell_type": "markdown",
     "metadata": {},
     "source": [
      "Dictionaries\n",
      "============\n",
      "Fun with dicts"
     ]
    },
    {
     "cell_type": "markdown",
     "metadata": {},
     "source": [
      "## Iterate"
     ]
    },
    {
     "cell_type": "code",
     "collapsed": false,
     "input": [
      "for k, v in {'Ruben': 22, 'Daniel': 25}.iteritems():\n",
      "    print(\"%s -> %d\" % (k, v))"
     ],
     "language": "python",
     "metadata": {},
     "outputs": [
      {
       "output_type": "stream",
       "stream": "stdout",
       "text": [
        "Daniel -> 25\n",
        "Ruben -> 22\n"
       ]
      }
     ],
     "prompt_number": 2
    },
    {
     "cell_type": "code",
     "collapsed": false,
     "input": [
      "d = {'Ruben': 22, 'Daniel': 25}\n",
      "for k in d:\n",
      "    print(\"%s -> %d\" % (k, d[k]))"
     ],
     "language": "python",
     "metadata": {},
     "outputs": [
      {
       "output_type": "stream",
       "stream": "stdout",
       "text": [
        "Daniel -> 25\n",
        "Ruben -> 22\n"
       ]
      }
     ],
     "prompt_number": 3
    },
    {
     "cell_type": "markdown",
     "metadata": {},
     "source": [
      "Keys not in the order as added"
     ]
    },
    {
     "cell_type": "code",
     "collapsed": false,
     "input": [
      "print(d.keys())\n",
      "\n",
      "d['Aaron'] = 55\n",
      "d['Zacharias'] = 33\n",
      "\n",
      "print(d.keys())"
     ],
     "language": "python",
     "metadata": {},
     "outputs": [
      {
       "output_type": "stream",
       "stream": "stdout",
       "text": [
        "['Daniel', 'Ruben']\n",
        "['Aaron', 'Daniel', 'Zacharias', 'Ruben']\n"
       ]
      }
     ],
     "prompt_number": 4
    },
    {
     "cell_type": "markdown",
     "metadata": {},
     "source": [
      "Search"
     ]
    },
    {
     "cell_type": "code",
     "collapsed": false,
     "input": [
      "print('Aaron' in d)\n",
      "print(22 in d.values())"
     ],
     "language": "python",
     "metadata": {},
     "outputs": [
      {
       "output_type": "stream",
       "stream": "stdout",
       "text": [
        "True\n",
        "True\n"
       ]
      }
     ],
     "prompt_number": 5
    },
    {
     "cell_type": "markdown",
     "metadata": {},
     "source": [
      "Shallow Copy"
     ]
    },
    {
     "cell_type": "code",
     "collapsed": false,
     "input": [
      "ref = d\n",
      "copy = d.copy()\n",
      "\n",
      "ref['Nicole'] = 27\n",
      "copy['Bernd'] = 41\n",
      "\n",
      "print('Bernd' in d)\n",
      "print('Nicole' in copy)\n",
      "\n",
      "print(copy)"
     ],
     "language": "python",
     "metadata": {},
     "outputs": [
      {
       "output_type": "stream",
       "stream": "stdout",
       "text": [
        "False\n",
        "False\n",
        "{'Aaron': 55, 'Daniel': 25, 'Bernd': 41, 'Zacharias': 33, 'Ruben': 22}\n"
       ]
      }
     ],
     "prompt_number": 6
    },
    {
     "cell_type": "markdown",
     "metadata": {},
     "source": [
      "Get Value with default"
     ]
    },
    {
     "cell_type": "code",
     "collapsed": false,
     "input": [
      "DEF_AGE = 41\n",
      "d.get('NonExistingName', DEF_AGE)"
     ],
     "language": "python",
     "metadata": {},
     "outputs": [
      {
       "metadata": {},
       "output_type": "pyout",
       "prompt_number": 14,
       "text": [
        "41"
       ]
      }
     ],
     "prompt_number": 14
    },
    {
     "cell_type": "code",
     "collapsed": false,
     "input": [
      "d.get('Nicole', DEF_AGE)"
     ],
     "language": "python",
     "metadata": {},
     "outputs": [
      {
       "metadata": {},
       "output_type": "pyout",
       "prompt_number": 15,
       "text": [
        "27"
       ]
      }
     ],
     "prompt_number": 15
    },
    {
     "cell_type": "code",
     "collapsed": false,
     "input": [
      "d.get('NonExistingName') == None"
     ],
     "language": "python",
     "metadata": {},
     "outputs": [
      {
       "metadata": {},
       "output_type": "pyout",
       "prompt_number": 16,
       "text": [
        "True"
       ]
      }
     ],
     "prompt_number": 16
    },
    {
     "cell_type": "code",
     "collapsed": false,
     "input": [
      "try:\n",
      "    d['NonExistingName']\n",
      "except KeyError as e:\n",
      "    print('Gibts nicht: %s' % e.message)"
     ],
     "language": "python",
     "metadata": {},
     "outputs": [
      {
       "output_type": "stream",
       "stream": "stdout",
       "text": [
        "Gibts nicht: NonExistingName\n"
       ]
      }
     ],
     "prompt_number": 17
    },
    {
     "cell_type": "code",
     "collapsed": false,
     "input": [],
     "language": "python",
     "metadata": {},
     "outputs": []
    }
   ],
   "metadata": {}
  }
 ]
}