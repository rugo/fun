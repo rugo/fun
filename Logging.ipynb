{
 "metadata": {
  "name": ""
 },
 "nbformat": 3,
 "nbformat_minor": 0,
 "worksheets": [
  {
   "cells": [
    {
     "cell_type": "code",
     "collapsed": false,
     "input": [
      "import logging\n",
      "\n",
      "logging.basicConfig(level=logging.DEBUG)\n",
      "\n",
      "# Im Modul:\n",
      "log = logging.getLogger(__name__)\n",
      "\n",
      "# FUNKTIONIERT NICHT IM NOTEBOOK, du wurst\n",
      "# Da das Notebook basicConfig aufruft\n",
      "# welches nur beim ersten Aufruf funktioniert :D\n",
      "log.debug('Hello')"
     ],
     "language": "python",
     "metadata": {},
     "outputs": [],
     "prompt_number": 2
    },
    {
     "cell_type": "code",
     "collapsed": false,
     "input": [],
     "language": "python",
     "metadata": {},
     "outputs": [],
     "prompt_number": 11
    }
   ],
   "metadata": {}
  }
 ]
}
