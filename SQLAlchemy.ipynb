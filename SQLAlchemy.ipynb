{
 "metadata": {
  "name": ""
 },
 "nbformat": 3,
 "nbformat_minor": 0,
 "worksheets": [
  {
   "cells": [
    {
     "cell_type": "code",
     "collapsed": false,
     "input": [
      "from sqlalchemy.ext.declarative import declarative_base\n",
      "\n",
      "Base = declarative_base()"
     ],
     "language": "python",
     "metadata": {},
     "outputs": [],
     "prompt_number": 14
    },
    {
     "cell_type": "markdown",
     "metadata": {},
     "source": [
      "## Define clases - ORM"
     ]
    },
    {
     "cell_type": "code",
     "collapsed": false,
     "input": [
      "from sqlalchemy import Column, Integer, String\n",
      "class User(Base):\n",
      "        __tablename__ = 'users'\n",
      "\n",
      "        id = Column(Integer, primary_key=True)\n",
      "        name = Column(String)\n",
      "        fullname = Column(String)\n",
      "        password = Column(String)\n",
      "\n",
      "        def __repr__(self):\n",
      "           return \"<User(name='%s', fullname='%s', password='%s')>\" % (\n",
      "                                self.name, self.fullname, self.password)\n",
      "        def __str__(self):\n",
      "            return self.fullname"
     ],
     "language": "python",
     "metadata": {},
     "outputs": [],
     "prompt_number": 15
    },
    {
     "cell_type": "markdown",
     "metadata": {},
     "source": [
      "## Relationship and Proxy"
     ]
    },
    {
     "cell_type": "code",
     "collapsed": false,
     "input": [
      "from sqlalchemy.schema import Column, Sequence, ForeignKey\n",
      "from sqlalchemy.orm import relationship\n",
      "from sqlalchemy.ext.associationproxy import association_proxy\n",
      "\n",
      "class Picture(Base):\n",
      "        __tablename__ = 'pictures'\n",
      "\n",
      "        id = Column(Integer, primary_key=True)\n",
      "        user_id = Column(Integer, ForeignKey('users.id'))\n",
      "        user = relationship(User)\n",
      "        user_name = association_proxy('user', 'name')\n",
      "        path = Column(String)"
     ],
     "language": "python",
     "metadata": {},
     "outputs": [],
     "prompt_number": 16
    },
    {
     "cell_type": "code",
     "collapsed": false,
     "input": [
      "hans = User()\n",
      "hans.name = 'Hans'\n",
      "hans.fullname = 'Hans Peter'\n",
      "hans.password = 'pw'\n",
      "\n",
      "pic = Picture()\n",
      "pic.user = hans\n",
      "pic.path = '/hans/peter/a.jpg'"
     ],
     "language": "python",
     "metadata": {},
     "outputs": [],
     "prompt_number": 17
    },
    {
     "cell_type": "code",
     "collapsed": false,
     "input": [
      "print(pic.user, pic.user_name, str(pic.user))"
     ],
     "language": "python",
     "metadata": {},
     "outputs": [
      {
       "output_type": "stream",
       "stream": "stdout",
       "text": [
        "(<User(name='Hans', fullname='Hans Peter', password='pw')>, 'Hans', 'Hans Peter')\n"
       ]
      }
     ],
     "prompt_number": 18
    },
    {
     "cell_type": "markdown",
     "metadata": {},
     "source": [
      "## Association Proxy on Association Proxy"
     ]
    },
    {
     "cell_type": "code",
     "collapsed": false,
     "input": [
      "class PictureDescription(Base):\n",
      "        __tablename__ = 'picture_descriptions'\n",
      "\n",
      "        id = Column(Integer, primary_key=True)\n",
      "        picture_id = Column(Integer, ForeignKey('pictures.id'))\n",
      "        picture = relationship(Picture)\n",
      "        user_name = association_proxy('picture', 'user_name')\n",
      "        value = Column(String)"
     ],
     "language": "python",
     "metadata": {},
     "outputs": [],
     "prompt_number": 19
    },
    {
     "cell_type": "code",
     "collapsed": false,
     "input": [
      "pic_desc = PictureDescription()\n",
      "pic_desc.picture = pic\n",
      "pic_desc.value = 'Blabla'\n",
      "pic_desc.user_name = 'Gisela'\n",
      "pic_desc.user_name"
     ],
     "language": "python",
     "metadata": {},
     "outputs": [
      {
       "metadata": {},
       "output_type": "pyout",
       "prompt_number": 20,
       "text": [
        "'Gisela'"
       ]
      }
     ],
     "prompt_number": 20
    },
    {
     "cell_type": "code",
     "collapsed": false,
     "input": [],
     "language": "python",
     "metadata": {},
     "outputs": [],
     "prompt_number": 20
    }
   ],
   "metadata": {}
  }
 ]
}