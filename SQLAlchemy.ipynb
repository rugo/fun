{
 "metadata": {
  "name": ""
 },
 "nbformat": 3,
 "nbformat_minor": 0,
 "worksheets": [
  {
   "cells": [
    {
     "cell_type": "markdown",
     "metadata": {},
     "source": [
      "## Declarative Base, Engine and session"
     ]
    },
    {
     "cell_type": "code",
     "collapsed": false,
     "input": [
      "from sqlalchemy.ext.declarative import declarative_base\n",
      "from sqlalchemy.engine import create_engine\n",
      "from sqlalchemy.orm import sessionmaker\n",
      "from sqlalchemy.schema import CreateTable\n",
      "\n",
      "Base = declarative_base()\n",
      "\n",
      "engine = create_engine('sqlite://')\n",
      "SessionFactory = sessionmaker(engine)\n",
      "\n",
      "session = SessionFactory()"
     ],
     "language": "python",
     "metadata": {},
     "outputs": [],
     "prompt_number": 29
    },
    {
     "cell_type": "markdown",
     "metadata": {},
     "source": [
      "## Define clases - ORM"
     ]
    },
    {
     "cell_type": "code",
     "collapsed": false,
     "input": [
      "from sqlalchemy import Column, Integer, String\n",
      "class User(Base):\n",
      "        __tablename__ = 'users'\n",
      "\n",
      "        id = Column(Integer, primary_key=True)\n",
      "        name = Column(String)\n",
      "        fullname = Column(String)\n",
      "        password = Column(String)\n",
      "\n",
      "        def __repr__(self):\n",
      "           return \"<User(name='%s', fullname='%s', password='%s')>\" % (\n",
      "                                self.name, self.fullname, self.password)\n",
      "        def __str__(self):\n",
      "            return self.fullname\n",
      "\n",
      "engine.execute(CreateTable(User.__table__))\n"
     ],
     "language": "python",
     "metadata": {},
     "outputs": [
      {
       "metadata": {},
       "output_type": "pyout",
       "prompt_number": 30,
       "text": [
        "<sqlalchemy.engine.result.ResultProxy at 0x7f8c540bcdd0>"
       ]
      }
     ],
     "prompt_number": 30
    },
    {
     "cell_type": "markdown",
     "metadata": {},
     "source": [
      "## Relationships and Proxies"
     ]
    },
    {
     "cell_type": "code",
     "collapsed": false,
     "input": [
      "from sqlalchemy.schema import Column, Sequence, ForeignKey\n",
      "from sqlalchemy.orm import relationship\n",
      "from sqlalchemy.ext.associationproxy import association_proxy\n",
      "\n",
      "class Picture(Base):\n",
      "        __tablename__ = 'pictures'\n",
      "\n",
      "        id = Column(Integer, primary_key=True)\n",
      "        user_id = Column(Integer, ForeignKey('users.id'))\n",
      "        user = relationship(User, backref='pictures')  # with backref, so user can use User.pictures attribute\n",
      "        user_name = association_proxy('user', 'name')\n",
      "        path = Column(String)\n",
      "\n",
      "engine.execute(CreateTable(Picture.__table__))"
     ],
     "language": "python",
     "metadata": {
      "slideshow": {
       "slide_type": "slide"
      }
     },
     "outputs": [
      {
       "metadata": {},
       "output_type": "pyout",
       "prompt_number": 31,
       "text": [
        "<sqlalchemy.engine.result.ResultProxy at 0x7f8c5408f7d0>"
       ]
      }
     ],
     "prompt_number": 31
    },
    {
     "cell_type": "code",
     "collapsed": false,
     "input": [
      "hans = User()\n",
      "hans.name = 'Hans'\n",
      "hans.fullname = 'Hans Peter'\n",
      "hans.password = 'pw'\n",
      "\n",
      "pic = Picture()\n",
      "pic.user = hans\n",
      "pic.path = '/hans/peter/a.jpg'"
     ],
     "language": "python",
     "metadata": {
      "slideshow": {
       "slide_type": "subslide"
      }
     },
     "outputs": [],
     "prompt_number": 32
    },
    {
     "cell_type": "code",
     "collapsed": false,
     "input": [
      "print(pic.user, pic.user_name, str(pic.user))"
     ],
     "language": "python",
     "metadata": {},
     "outputs": [
      {
       "output_type": "stream",
       "stream": "stdout",
       "text": [
        "(<User(name='Hans', fullname='Hans Peter', password='pw')>, 'Hans', 'Hans Peter')\n"
       ]
      }
     ],
     "prompt_number": 33
    },
    {
     "cell_type": "markdown",
     "metadata": {},
     "source": [
      "## Association Proxy on Association Proxy"
     ]
    },
    {
     "cell_type": "code",
     "collapsed": false,
     "input": [
      "class PictureDescription(Base):\n",
      "        __tablename__ = 'picture_descriptions'\n",
      "\n",
      "        id = Column(Integer, primary_key=True)\n",
      "        picture_id = Column(Integer, ForeignKey('pictures.id'))\n",
      "        picture = relationship(Picture)\n",
      "        user_name = association_proxy('picture', 'user_name')\n",
      "        value = Column(String)\n",
      "\n",
      "engine.execute(CreateTable(PictureDescription.__table__))"
     ],
     "language": "python",
     "metadata": {},
     "outputs": [
      {
       "metadata": {},
       "output_type": "pyout",
       "prompt_number": 34,
       "text": [
        "<sqlalchemy.engine.result.ResultProxy at 0x7f8c540c6510>"
       ]
      }
     ],
     "prompt_number": 34
    },
    {
     "cell_type": "code",
     "collapsed": false,
     "input": [
      "pic_desc = PictureDescription()\n",
      "pic_desc.picture = pic\n",
      "pic_desc.value = 'Blabla'\n",
      "pic_desc.user_name = 'Gisela'\n",
      "pic_desc.user_name"
     ],
     "language": "python",
     "metadata": {},
     "outputs": [
      {
       "metadata": {},
       "output_type": "pyout",
       "prompt_number": 35,
       "text": [
        "'Gisela'"
       ]
      }
     ],
     "prompt_number": 35
    },
    {
     "cell_type": "markdown",
     "metadata": {},
     "source": [
      "Latex... Cool $$\\theta = \\frac{\\pi}{4} \\cdot 5$$"
     ]
    },
    {
     "cell_type": "markdown",
     "metadata": {},
     "source": [
      "## Session"
     ]
    },
    {
     "cell_type": "markdown",
     "metadata": {},
     "source": [
      "### Inspect http://docs.sqlalchemy.org/en/latest/orm/internals.html#sqlalchemy.orm.state.InstanceState"
     ]
    },
    {
     "cell_type": "code",
     "collapsed": false,
     "input": [
      "from sqlalchemy import inspect"
     ],
     "language": "python",
     "metadata": {},
     "outputs": [],
     "prompt_number": 36
    },
    {
     "cell_type": "code",
     "collapsed": false,
     "input": [
      "session.add(hans)"
     ],
     "language": "python",
     "metadata": {},
     "outputs": [],
     "prompt_number": 37
    },
    {
     "cell_type": "code",
     "collapsed": false,
     "input": [
      "session.query(User).all()"
     ],
     "language": "python",
     "metadata": {},
     "outputs": [
      {
       "metadata": {},
       "output_type": "pyout",
       "prompt_number": 38,
       "text": [
        "[<User(name='Gisela', fullname='Hans Peter', password='pw')>]"
       ]
      }
     ],
     "prompt_number": 38
    },
    {
     "cell_type": "code",
     "collapsed": false,
     "input": [
      "session.delete(hans)"
     ],
     "language": "python",
     "metadata": {},
     "outputs": [],
     "prompt_number": 39
    },
    {
     "cell_type": "code",
     "collapsed": false,
     "input": [
      "state = inspect(hans)"
     ],
     "language": "python",
     "metadata": {},
     "outputs": [],
     "prompt_number": 40
    },
    {
     "cell_type": "code",
     "collapsed": false,
     "input": [
      "state.attrs.keys()"
     ],
     "language": "python",
     "metadata": {},
     "outputs": [
      {
       "metadata": {},
       "output_type": "pyout",
       "prompt_number": 41,
       "text": [
        "['pictures', 'fullname', 'password', 'id', 'name']"
       ]
      }
     ],
     "prompt_number": 41
    },
    {
     "cell_type": "code",
     "collapsed": false,
     "input": [
      "inspect(pic).attrs.keys()"
     ],
     "language": "python",
     "metadata": {},
     "outputs": [
      {
       "metadata": {},
       "output_type": "pyout",
       "prompt_number": 42,
       "text": [
        "['path', 'user_id', 'user', 'id']"
       ]
      }
     ],
     "prompt_number": 42
    },
    {
     "cell_type": "markdown",
     "metadata": {},
     "source": [
      "## Queries"
     ]
    },
    {
     "cell_type": "code",
     "collapsed": false,
     "input": [
      "print session.query(User)"
     ],
     "language": "python",
     "metadata": {},
     "outputs": [
      {
       "output_type": "stream",
       "stream": "stdout",
       "text": [
        "SELECT users.id AS users_id, users.name AS users_name, users.fullname AS users_fullname, users.password AS users_password \n",
        "FROM users\n"
       ]
      }
     ],
     "prompt_number": 43
    },
    {
     "cell_type": "markdown",
     "metadata": {},
     "source": [
      "### Joins"
     ]
    },
    {
     "cell_type": "code",
     "collapsed": false,
     "input": [
      "print session.query(User).join(Picture).filter(Picture.id > 42)  # Join, ergebnis nicht im result"
     ],
     "language": "python",
     "metadata": {},
     "outputs": [
      {
       "output_type": "stream",
       "stream": "stdout",
       "text": [
        "SELECT users.id AS users_id, users.name AS users_name, users.fullname AS users_fullname, users.password AS users_password \n",
        "FROM users JOIN pictures ON users.id = pictures.user_id \n",
        "WHERE pictures.id > :id_1\n"
       ]
      }
     ],
     "prompt_number": 44
    },
    {
     "cell_type": "markdown",
     "metadata": {},
     "source": [
      "#### Load and filter"
     ]
    },
    {
     "cell_type": "code",
     "collapsed": false,
     "input": [
      "from sqlalchemy.orm import contains_eager\n",
      "print session.query(\n",
      "                    User\n",
      "                    ).join(\n",
      "                           Picture\n",
      "                           ).options(\n",
      "                                     contains_eager('pictures') # also load relationship pictures\n",
      "                                     ).filter(\n",
      "                                              Picture.id > 42\n",
      "                                              )"
     ],
     "language": "python",
     "metadata": {},
     "outputs": [
      {
       "output_type": "stream",
       "stream": "stdout",
       "text": [
        "SELECT users.id AS users_id, users.name AS users_name, users.fullname AS users_fullname, users.password AS users_password, pictures.id AS pictures_id, pictures.user_id AS pictures_user_id, pictures.path AS pictures_path \n",
        "FROM users JOIN pictures ON users.id = pictures.user_id \n",
        "WHERE pictures.id > :id_1\n"
       ]
      }
     ],
     "prompt_number": 51
    },
    {
     "cell_type": "markdown",
     "metadata": {},
     "source": [
      "#### Just load"
     ]
    },
    {
     "cell_type": "code",
     "collapsed": false,
     "input": [
      "from sqlalchemy.orm import joinedload\n",
      "print session.query(\n",
      "                    User\n",
      "                    ).options(\n",
      "                              joinedload('pictures')  # eager load with left outer join\n",
      "                              )"
     ],
     "language": "python",
     "metadata": {},
     "outputs": [
      {
       "output_type": "stream",
       "stream": "stdout",
       "text": [
        "SELECT users.id AS users_id, users.name AS users_name, users.fullname AS users_fullname, users.password AS users_password, pictures_1.id AS pictures_1_id, pictures_1.user_id AS pictures_1_user_id, pictures_1.path AS pictures_1_path \n",
        "FROM users LEFT OUTER JOIN pictures AS pictures_1 ON users.id = pictures_1.user_id\n"
       ]
      }
     ],
     "prompt_number": 58
    },
    {
     "cell_type": "markdown",
     "metadata": {},
     "source": [
      "### Subquery"
     ]
    },
    {
     "cell_type": "code",
     "collapsed": false,
     "input": [
      "subq = session.query(Picture).filter(Picture.id < 50).subquery() # kann jetzt wie table benutzt werden"
     ],
     "language": "python",
     "metadata": {},
     "outputs": [],
     "prompt_number": 52
    },
    {
     "cell_type": "code",
     "collapsed": false,
     "input": [
      "print session.query(User).join(subq) # join mit subquery"
     ],
     "language": "python",
     "metadata": {},
     "outputs": [
      {
       "output_type": "stream",
       "stream": "stdout",
       "text": [
        "SELECT users.id AS users_id, users.name AS users_name, users.fullname AS users_fullname, users.password AS users_password \n",
        "FROM users JOIN (SELECT pictures.id AS id, pictures.user_id AS user_id, pictures.path AS path \n",
        "FROM pictures \n",
        "WHERE pictures.id < :id_1) AS anon_1 ON users.id = anon_1.user_id\n"
       ]
      }
     ],
     "prompt_number": 53
    },
    {
     "cell_type": "markdown",
     "metadata": {},
     "source": [
      "### Alias"
     ]
    },
    {
     "cell_type": "code",
     "collapsed": false,
     "input": [
      "from sqlalchemy.orm import aliased\n",
      "aliased_sub = aliased(subq, name='subquery')\n",
      "# Greife auf subquery columns ueber alias.c (column) zu\n",
      "print session.query(User, aliased_sub.c.path).join(aliased_sub).filter(aliased_sub.c.id > 40)"
     ],
     "language": "python",
     "metadata": {},
     "outputs": [
      {
       "output_type": "stream",
       "stream": "stdout",
       "text": [
        "SELECT users.id AS users_id, users.name AS users_name, users.fullname AS users_fullname, users.password AS users_password, subquery.path AS subquery_path \n",
        "FROM users JOIN (SELECT pictures.id AS id, pictures.user_id AS user_id, pictures.path AS path \n",
        "FROM pictures \n",
        "WHERE pictures.id < :id_1) AS subquery ON users.id = subquery.user_id \n",
        "WHERE subquery.id > :id_2\n"
       ]
      }
     ],
     "prompt_number": 54
    },
    {
     "cell_type": "code",
     "collapsed": false,
     "input": [],
     "language": "python",
     "metadata": {},
     "outputs": [],
     "prompt_number": 54
    }
   ],
   "metadata": {}
  }
 ]
}